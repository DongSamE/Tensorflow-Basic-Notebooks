{
 "cells": [
  {
   "cell_type": "code",
   "execution_count": 0,
   "metadata": {
    "colab": {},
    "colab_type": "code",
    "collapsed": true,
    "id": "zX4Kg8DUTKWO"
   },
   "outputs": [],
   "source": [
    "#@title Licensed under the Apache License, Version 2.0 (the \"License\");\n",
    "# you may not use this file except in compliance with the License.\n",
    "# You may obtain a copy of the License at\n",
    "#\n",
    "# https://www.apache.org/licenses/LICENSE-2.0\n",
    "#\n",
    "# Unless required by applicable law or agreed to in writing, software\n",
    "# distributed under the License is distributed on an \"AS IS\" BASIS,\n",
    "# WITHOUT WARRANTIES OR CONDITIONS OF ANY KIND, either express or implied.\n",
    "# See the License for the specific language governing permissions and\n",
    "# limitations under the License."
   ]
  },
  {
   "cell_type": "code",
   "execution_count": 0,
   "metadata": {
    "cellView": "both",
    "colab": {},
    "colab_type": "code",
    "collapsed": true,
    "id": "D1J15Vh_1Jih"
   },
   "outputs": [],
   "source": [
    "!pip install tf-nightly-2.0-preview\n"
   ]
  },
  {
   "cell_type": "code",
   "execution_count": 0,
   "metadata": {
    "colab": {
     "base_uri": "https://localhost:8080/",
     "height": 35
    },
    "colab_type": "code",
    "id": "BOjujz601HcS",
    "outputId": "d6a5738c-f2f5-41ba-a1a8-c6817695a141"
   },
   "outputs": [
    {
     "name": "stdout",
     "output_type": "stream",
     "text": [
      "2.2.0\n"
     ]
    }
   ],
   "source": [
    "import tensorflow as tf\n",
    "import numpy as np\n",
    "import matplotlib.pyplot as plt\n",
    "print(tf.__version__)"
   ]
  },
  {
   "cell_type": "code",
   "execution_count": 0,
   "metadata": {
    "colab": {
     "base_uri": "https://localhost:8080/",
     "height": 279
    },
    "colab_type": "code",
    "id": "Zswl7jRtGzkk",
    "outputId": "f3f0378e-7cc3-401a-b5aa-f78ddf15f96b"
   },
   "outputs": [
    {
     "data": {
      "image/png": "[encoded data removed]",
      "text/plain": [
       "<Figure size 432x288 with 1 Axes>"
      ]
     },
     "metadata": {
      "needs_background": "light",
      "tags": []
     },
     "output_type": "display_data"
    }
   ],
   "source": [
    "def plot_series(time, series, format=\"-\", start=0, end=None):\n",
    "    plt.plot(time[start:end], series[start:end], format)\n",
    "    plt.xlabel(\"Time\")\n",
    "    plt.ylabel(\"Value\")\n",
    "    plt.grid(False)\n",
    "\n",
    "def trend(time, slope=0):\n",
    "    return slope * time\n",
    "\n",
    "def seasonal_pattern(season_time):\n",
    "    \"\"\"Just an arbitrary pattern, you can change it if you wish\"\"\"\n",
    "    return np.where(season_time < 0.1,\n",
    "                    np.cos(season_time * 6 * np.pi),\n",
    "                    2 / np.exp(9 * season_time))\n",
    "\n",
    "def seasonality(time, period, amplitude=1, phase=0):\n",
    "    \"\"\"Repeats the same pattern at each period\"\"\"\n",
    "    season_time = ((time + phase) % period) / period\n",
    "    return amplitude * seasonal_pattern(season_time)\n",
    "\n",
    "def noise(time, noise_level=1, seed=None):\n",
    "    rnd = np.random.RandomState(seed)\n",
    "    return rnd.randn(len(time)) * noise_level\n",
    "\n",
    "time = np.arange(10 * 365 + 1, dtype=\"float32\")\n",
    "series = trend(time, 0.1)  \n",
    "baseline = 10\n",
    "amplitude = 40\n",
    "slope = 0.005\n",
    "noise_level = 3\n",
    "\n",
    "# Create the series\n",
    "series = baseline + trend(time, slope) + seasonality(time, period=365, amplitude=amplitude)\n",
    "# Update with noise\n",
    "series += noise(time, noise_level, seed=51)\n",
    "\n",
    "split_time = 3000\n",
    "time_train = time[:split_time]\n",
    "x_train = series[:split_time]\n",
    "time_valid = time[split_time:]\n",
    "x_valid = series[split_time:]\n",
    "\n",
    "window_size = 20\n",
    "batch_size = 32\n",
    "shuffle_buffer_size = 1000\n",
    "\n",
    "plot_series(time, series)"
   ]
  },
  {
   "cell_type": "markdown",
   "metadata": {
    "colab_type": "text",
    "id": "GfUTNqti_lNC"
   },
   "source": [
    "Desired output -- a chart that looks like this:\n",
    "\n",
    "![Chart showing upward trend and seasonailty](http://www.laurencemoroney.com/wp-content/uploads/2019/07/plot1.png)"
   ]
  },
  {
   "cell_type": "code",
   "execution_count": 0,
   "metadata": {
    "colab": {},
    "colab_type": "code",
    "collapsed": true,
    "id": "4sTTIOCbyShY"
   },
   "outputs": [],
   "source": [
    "def windowed_dataset(series, window_size, batch_size, shuffle_buffer):\n",
    "  dataset = tf.data.Dataset.from_tensor_slices(series)\n",
    "  dataset = dataset.window(window_size + 1, shift=1, drop_remainder=True)\n",
    "  dataset = dataset.flat_map(lambda window: window.batch(window_size + 1))\n",
    "  dataset = dataset.shuffle(shuffle_buffer).map(lambda window: (window[:-1], window[-1]))\n",
    "  dataset = dataset.batch(batch_size).prefetch(1)\n",
    "  return dataset"
   ]
  },
  {
   "cell_type": "code",
   "execution_count": 0,
   "metadata": {
    "colab": {
     "base_uri": "https://localhost:8080/",
     "height": 1000
    },
    "colab_type": "code",
    "id": "TW-vT7eLYAdb",
    "outputId": "dcef42bf-e865-4167-8b75-f9966aed67a9"
   },
   "outputs": [
    {
     "name": "stdout",
     "output_type": "stream",
     "text": [
      "Epoch 1/100\n",
      "94/94 [==============================] - 0s 5ms/step - loss: 17.7714 - mae: 18.2710 - lr: 1.0000e-08\n",
      "Epoch 2/100\n",
      "94/94 [==============================] - 0s 3ms/step - loss: 17.7423 - mae: 18.2419 - lr: 1.1220e-08\n",
      "Epoch 3/100\n",
      "94/94 [==============================] - 0s 4ms/step - loss: 17.7092 - mae: 18.2088 - lr: 1.2589e-08\n",
      "Epoch 4/100\n",
      "94/94 [==============================] - 0s 4ms/step - loss: 17.6721 - mae: 18.1717 - lr: 1.4125e-08\n",
      "Epoch 5/100\n",
      "94/94 [==============================] - 0s 3ms/step - loss: 17.6302 - mae: 18.1299 - lr: 1.5849e-08\n",
      "Epoch 6/100\n",
      "94/94 [==============================] - 0s 5ms/step - loss: 17.5832 - mae: 18.0828 - lr: 1.7783e-08\n",
      "Epoch 7/100\n",
      "94/94 [==============================] - 0s 4ms/step - loss: 17.5299 - mae: 18.0295 - lr: 1.9953e-08\n",
      "Epoch 8/100\n",
      "94/94 [==============================] - 0s 4ms/step - loss: 17.4696 - mae: 17.9691 - lr: 2.2387e-08\n",
      "Epoch 9/100\n",
      "94/94 [==============================] - 0s 4ms/step - loss: 17.4019 - mae: 17.9013 - lr: 2.5119e-08\n",
      "Epoch 10/100\n",
      "94/94 [==============================] - 0s 4ms/step - loss: 17.3250 - mae: 17.8244 - lr: 2.8184e-08\n",
      "Epoch 11/100\n",
      "94/94 [==============================] - 0s 4ms/step - loss: 17.2385 - mae: 17.7379 - lr: 3.1623e-08\n",
      "Epoch 12/100\n",
      "94/94 [==============================] - 0s 4ms/step - loss: 17.1402 - mae: 17.6396 - lr: 3.5481e-08\n",
      "Epoch 13/100\n",
      "94/94 [==============================] - 0s 5ms/step - loss: 17.0291 - mae: 17.5285 - lr: 3.9811e-08\n",
      "Epoch 14/100\n",
      "94/94 [==============================] - 0s 5ms/step - loss: 16.9033 - mae: 17.4029 - lr: 4.4668e-08\n",
      "Epoch 15/100\n",
      "94/94 [==============================] - 0s 4ms/step - loss: 16.7600 - mae: 17.2597 - lr: 5.0119e-08\n",
      "Epoch 16/100\n",
      "94/94 [==============================] - 0s 4ms/step - loss: 16.5972 - mae: 17.0969 - lr: 5.6234e-08\n",
      "Epoch 17/100\n",
      "94/94 [==============================] - 0s 4ms/step - loss: 16.4127 - mae: 16.9124 - lr: 6.3096e-08\n",
      "Epoch 18/100\n",
      "94/94 [==============================] - 0s 4ms/step - loss: 16.2036 - mae: 16.7029 - lr: 7.0795e-08\n",
      "Epoch 19/100\n",
      "94/94 [==============================] - 0s 4ms/step - loss: 15.9661 - mae: 16.4650 - lr: 7.9433e-08\n",
      "Epoch 20/100\n",
      "94/94 [==============================] - 1s 6ms/step - loss: 15.6962 - mae: 16.1954 - lr: 8.9125e-08\n",
      "Epoch 21/100\n",
      "94/94 [==============================] - 0s 4ms/step - loss: 15.3897 - mae: 15.8889 - lr: 1.0000e-07\n",
      "Epoch 22/100\n",
      "94/94 [==============================] - 1s 6ms/step - loss: 15.0429 - mae: 15.5419 - lr: 1.1220e-07\n",
      "Epoch 23/100\n",
      "94/94 [==============================] - 0s 4ms/step - loss: 14.6540 - mae: 15.1531 - lr: 1.2589e-07\n",
      "Epoch 24/100\n",
      "94/94 [==============================] - 0s 4ms/step - loss: 14.2101 - mae: 14.7091 - lr: 1.4125e-07\n",
      "Epoch 25/100\n",
      "94/94 [==============================] - 0s 4ms/step - loss: 13.7072 - mae: 14.2060 - lr: 1.5849e-07\n",
      "Epoch 26/100\n",
      "94/94 [==============================] - 0s 4ms/step - loss: 13.1439 - mae: 13.6425 - lr: 1.7783e-07\n",
      "Epoch 27/100\n",
      "94/94 [==============================] - 0s 5ms/step - loss: 12.5112 - mae: 13.0096 - lr: 1.9953e-07\n",
      "Epoch 28/100\n",
      "94/94 [==============================] - 0s 4ms/step - loss: 11.8047 - mae: 12.3024 - lr: 2.2387e-07\n",
      "Epoch 29/100\n",
      "94/94 [==============================] - 0s 4ms/step - loss: 11.0223 - mae: 11.5192 - lr: 2.5119e-07\n",
      "Epoch 30/100\n",
      "94/94 [==============================] - 0s 4ms/step - loss: 10.1551 - mae: 10.6511 - lr: 2.8184e-07\n",
      "Epoch 31/100\n",
      "94/94 [==============================] - 0s 3ms/step - loss: 9.2225 - mae: 9.7161 - lr: 3.1623e-07\n",
      "Epoch 32/100\n",
      "94/94 [==============================] - 0s 4ms/step - loss: 8.2709 - mae: 8.7611 - lr: 3.5481e-07\n",
      "Epoch 33/100\n",
      "94/94 [==============================] - 0s 4ms/step - loss: 7.3502 - mae: 7.8358 - lr: 3.9811e-07\n",
      "Epoch 34/100\n",
      "94/94 [==============================] - 0s 4ms/step - loss: 6.5965 - mae: 7.0760 - lr: 4.4668e-07\n",
      "Epoch 35/100\n",
      "94/94 [==============================] - 0s 4ms/step - loss: 6.1144 - mae: 6.5889 - lr: 5.0119e-07\n",
      "Epoch 36/100\n",
      "94/94 [==============================] - 0s 4ms/step - loss: 5.8557 - mae: 6.3268 - lr: 5.6234e-07\n",
      "Epoch 37/100\n",
      "94/94 [==============================] - 0s 3ms/step - loss: 5.7431 - mae: 6.2121 - lr: 6.3096e-07\n",
      "Epoch 38/100\n",
      "94/94 [==============================] - 0s 4ms/step - loss: 5.6945 - mae: 6.1672 - lr: 7.0795e-07\n",
      "Epoch 39/100\n",
      "94/94 [==============================] - 0s 4ms/step - loss: 5.6735 - mae: 6.1462 - lr: 7.9433e-07\n",
      "Epoch 40/100\n",
      "94/94 [==============================] - 0s 4ms/step - loss: 5.6589 - mae: 6.1322 - lr: 8.9125e-07\n",
      "Epoch 41/100\n",
      "94/94 [==============================] - 0s 4ms/step - loss: 5.6449 - mae: 6.1176 - lr: 1.0000e-06\n",
      "Epoch 42/100\n",
      "94/94 [==============================] - 0s 4ms/step - loss: 5.6289 - mae: 6.1019 - lr: 1.1220e-06\n",
      "Epoch 43/100\n",
      "94/94 [==============================] - 0s 4ms/step - loss: 5.6111 - mae: 6.0835 - lr: 1.2589e-06\n",
      "Epoch 44/100\n",
      "94/94 [==============================] - 1s 6ms/step - loss: 5.5917 - mae: 6.0645 - lr: 1.4125e-06\n",
      "Epoch 45/100\n",
      "94/94 [==============================] - 0s 4ms/step - loss: 5.5709 - mae: 6.0433 - lr: 1.5849e-06\n",
      "Epoch 46/100\n",
      "94/94 [==============================] - 0s 4ms/step - loss: 5.5490 - mae: 6.0214 - lr: 1.7783e-06\n",
      "Epoch 47/100\n",
      "94/94 [==============================] - 0s 4ms/step - loss: 5.5232 - mae: 5.9953 - lr: 1.9953e-06\n",
      "Epoch 48/100\n",
      "94/94 [==============================] - 0s 4ms/step - loss: 5.4944 - mae: 5.9663 - lr: 2.2387e-06\n",
      "Epoch 49/100\n",
      "94/94 [==============================] - 0s 4ms/step - loss: 5.4627 - mae: 5.9345 - lr: 2.5119e-06\n",
      "Epoch 50/100\n",
      "94/94 [==============================] - 0s 4ms/step - loss: 5.4282 - mae: 5.8997 - lr: 2.8184e-06\n",
      "Epoch 51/100\n",
      "94/94 [==============================] - 0s 3ms/step - loss: 5.3971 - mae: 5.8693 - lr: 3.1623e-06\n",
      "Epoch 52/100\n",
      "94/94 [==============================] - 0s 3ms/step - loss: 5.3547 - mae: 5.8261 - lr: 3.5481e-06\n",
      "Epoch 53/100\n",
      "94/94 [==============================] - 0s 4ms/step - loss: 5.3130 - mae: 5.7836 - lr: 3.9811e-06\n",
      "Epoch 54/100\n",
      "94/94 [==============================] - 0s 4ms/step - loss: 5.2657 - mae: 5.7365 - lr: 4.4668e-06\n",
      "Epoch 55/100\n",
      "94/94 [==============================] - 0s 4ms/step - loss: 5.2211 - mae: 5.6927 - lr: 5.0119e-06\n",
      "Epoch 56/100\n",
      "94/94 [==============================] - 0s 4ms/step - loss: 5.1689 - mae: 5.6379 - lr: 5.6234e-06\n",
      "Epoch 57/100\n",
      "94/94 [==============================] - 0s 4ms/step - loss: 5.1113 - mae: 5.5809 - lr: 6.3096e-06\n",
      "Epoch 58/100\n",
      "94/94 [==============================] - 0s 4ms/step - loss: 5.0585 - mae: 5.5283 - lr: 7.0795e-06\n",
      "Epoch 59/100\n",
      "94/94 [==============================] - 0s 4ms/step - loss: 4.9972 - mae: 5.4648 - lr: 7.9433e-06\n",
      "Epoch 60/100\n",
      "94/94 [==============================] - 0s 4ms/step - loss: 4.9375 - mae: 5.4053 - lr: 8.9125e-06\n",
      "Epoch 61/100\n",
      "94/94 [==============================] - 0s 4ms/step - loss: 4.8661 - mae: 5.3341 - lr: 1.0000e-05\n",
      "Epoch 62/100\n",
      "94/94 [==============================] - 0s 4ms/step - loss: 4.8197 - mae: 5.2884 - lr: 1.1220e-05\n",
      "Epoch 63/100\n",
      "94/94 [==============================] - 0s 4ms/step - loss: 4.7420 - mae: 5.2111 - lr: 1.2589e-05\n",
      "Epoch 64/100\n",
      "94/94 [==============================] - 0s 4ms/step - loss: 4.6766 - mae: 5.1449 - lr: 1.4125e-05\n",
      "Epoch 65/100\n",
      "94/94 [==============================] - 0s 4ms/step - loss: 4.5988 - mae: 5.0676 - lr: 1.5849e-05\n",
      "Epoch 66/100\n",
      "94/94 [==============================] - 0s 5ms/step - loss: 4.5180 - mae: 4.9862 - lr: 1.7783e-05\n",
      "Epoch 67/100\n",
      "94/94 [==============================] - 1s 6ms/step - loss: 4.4436 - mae: 4.9107 - lr: 1.9953e-05\n",
      "Epoch 68/100\n",
      "94/94 [==============================] - 0s 4ms/step - loss: 4.3648 - mae: 4.8331 - lr: 2.2387e-05\n",
      "Epoch 69/100\n",
      "94/94 [==============================] - 0s 4ms/step - loss: 4.2934 - mae: 4.7600 - lr: 2.5119e-05\n",
      "Epoch 70/100\n",
      "94/94 [==============================] - 0s 4ms/step - loss: 4.1858 - mae: 4.6529 - lr: 2.8184e-05\n",
      "Epoch 71/100\n",
      "94/94 [==============================] - 0s 4ms/step - loss: 4.0919 - mae: 4.5577 - lr: 3.1623e-05\n",
      "Epoch 72/100\n",
      "94/94 [==============================] - 0s 3ms/step - loss: 3.9858 - mae: 4.4529 - lr: 3.5481e-05\n",
      "Epoch 73/100\n",
      "94/94 [==============================] - 0s 4ms/step - loss: 3.8506 - mae: 4.3169 - lr: 3.9811e-05\n",
      "Epoch 74/100\n",
      "94/94 [==============================] - 0s 4ms/step - loss: 3.7183 - mae: 4.1839 - lr: 4.4668e-05\n",
      "Epoch 75/100\n",
      "94/94 [==============================] - 0s 4ms/step - loss: 3.5390 - mae: 4.0057 - lr: 5.0119e-05\n",
      "Epoch 76/100\n",
      "94/94 [==============================] - 0s 5ms/step - loss: 3.4067 - mae: 3.8735 - lr: 5.6234e-05\n",
      "Epoch 77/100\n",
      "94/94 [==============================] - 0s 4ms/step - loss: 3.3194 - mae: 3.7867 - lr: 6.3096e-05\n",
      "Epoch 78/100\n",
      "94/94 [==============================] - 0s 4ms/step - loss: 3.2220 - mae: 3.6913 - lr: 7.0795e-05\n",
      "Epoch 79/100\n",
      "94/94 [==============================] - 0s 4ms/step - loss: 3.1054 - mae: 3.5716 - lr: 7.9433e-05\n",
      "Epoch 80/100\n",
      "94/94 [==============================] - 0s 3ms/step - loss: 3.1415 - mae: 3.6086 - lr: 8.9125e-05\n",
      "Epoch 81/100\n",
      "94/94 [==============================] - 0s 4ms/step - loss: 3.0009 - mae: 3.4667 - lr: 1.0000e-04\n",
      "Epoch 82/100\n",
      "94/94 [==============================] - 0s 4ms/step - loss: 2.9923 - mae: 3.4576 - lr: 1.1220e-04\n",
      "Epoch 83/100\n",
      "94/94 [==============================] - 0s 3ms/step - loss: 2.9264 - mae: 3.3928 - lr: 1.2589e-04\n",
      "Epoch 84/100\n",
      "94/94 [==============================] - 0s 4ms/step - loss: 2.8846 - mae: 3.3511 - lr: 1.4125e-04\n",
      "Epoch 85/100\n",
      "94/94 [==============================] - 0s 4ms/step - loss: 2.9709 - mae: 3.4365 - lr: 1.5849e-04\n",
      "Epoch 86/100\n",
      "94/94 [==============================] - 0s 4ms/step - loss: 2.8493 - mae: 3.3162 - lr: 1.7783e-04\n",
      "Epoch 87/100\n",
      "94/94 [==============================] - 0s 4ms/step - loss: 2.8046 - mae: 3.2703 - lr: 1.9953e-04\n",
      "Epoch 88/100\n",
      "94/94 [==============================] - 1s 6ms/step - loss: 2.9560 - mae: 3.4220 - lr: 2.2387e-04\n",
      "Epoch 89/100\n",
      "94/94 [==============================] - 0s 4ms/step - loss: 2.8724 - mae: 3.3383 - lr: 2.5119e-04\n",
      "Epoch 90/100\n",
      "94/94 [==============================] - 0s 3ms/step - loss: 2.8856 - mae: 3.3512 - lr: 2.8184e-04\n",
      "Epoch 91/100\n",
      "94/94 [==============================] - 0s 4ms/step - loss: 2.8415 - mae: 3.3071 - lr: 3.1623e-04\n",
      "Epoch 92/100\n",
      "94/94 [==============================] - 0s 4ms/step - loss: 2.8935 - mae: 3.3614 - lr: 3.5481e-04\n",
      "Epoch 93/100\n",
      "94/94 [==============================] - 0s 4ms/step - loss: 2.8049 - mae: 3.2703 - lr: 3.9811e-04\n",
      "Epoch 94/100\n",
      "94/94 [==============================] - 0s 4ms/step - loss: 3.3601 - mae: 3.8284 - lr: 4.4668e-04\n",
      "Epoch 95/100\n",
      "94/94 [==============================] - 0s 4ms/step - loss: 2.9044 - mae: 3.3715 - lr: 5.0119e-04\n",
      "Epoch 96/100\n",
      "94/94 [==============================] - 1s 6ms/step - loss: 2.8395 - mae: 3.3054 - lr: 5.6234e-04\n",
      "Epoch 97/100\n",
      "94/94 [==============================] - 0s 5ms/step - loss: 2.8485 - mae: 3.3123 - lr: 6.3096e-04\n",
      "Epoch 98/100\n",
      "94/94 [==============================] - 0s 4ms/step - loss: 2.9948 - mae: 3.4597 - lr: 7.0795e-04\n",
      "Epoch 99/100\n",
      "94/94 [==============================] - 0s 4ms/step - loss: 3.0750 - mae: 3.5406 - lr: 7.9433e-04\n",
      "Epoch 100/100\n",
      "94/94 [==============================] - 1s 6ms/step - loss: 3.5283 - mae: 4.0001 - lr: 8.9125e-04\n"
     ]
    }
   ],
   "source": [
    "dataset = windowed_dataset(x_train, window_size, batch_size, shuffle_buffer_size)\n",
    "\n",
    "\n",
    "model = tf.keras.models.Sequential([\n",
    "    tf.keras.layers.Dense(10, activation=\"relu\", input_shape=[window_size]),\n",
    "    tf.keras.layers.Dense(10, activation=\"relu\"), \n",
    "    tf.keras.layers.Dense(1)\n",
    "])\n",
    "\n",
    "lr_schedule = tf.keras.callbacks.LearningRateScheduler(\n",
    "    lambda epoch: 1e-8 * 10**(epoch / 20))\n",
    "optimizer = tf.keras.optimizers.SGD(lr=1e-8, momentum=0.9)\n",
    "model.compile(loss=tf.keras.losses.Huber(),\n",
    "              optimizer=optimizer,\n",
    "              metrics=[\"mae\"])\n",
    "history = model.fit(dataset, epochs=100, callbacks=[lr_schedule])\n"
   ]
  },
  {
   "cell_type": "code",
   "execution_count": 0,
   "metadata": {
    "colab": {
     "base_uri": "https://localhost:8080/",
     "height": 291
    },
    "colab_type": "code",
    "id": "l1hYArkTYd__",
    "outputId": "2b27b089-19b4-496d-eda6-376f0eecb739"
   },
   "outputs": [
    {
     "data": {
      "text/plain": [
       "(1e-08, 0.0001, 0.0, 30.0)"
      ]
     },
     "execution_count": 16,
     "metadata": {
      "tags": []
     },
     "output_type": "execute_result"
    },
    {
     "data": {
      "image/png": "[encoded data removed]",
      "text/plain": [
       "<Figure size 432x288 with 1 Axes>"
      ]
     },
     "metadata": {
      "needs_background": "light",
      "tags": []
     },
     "output_type": "display_data"
    }
   ],
   "source": [
    "plt.semilogx(history.history[\"lr\"], history.history[\"loss\"])\n",
    "plt.axis([1e-8, 1e-4, 0, 30])"
   ]
  },
  {
   "cell_type": "code",
   "execution_count": 0,
   "metadata": {
    "colab": {
     "base_uri": "https://localhost:8080/",
     "height": 35
    },
    "colab_type": "code",
    "id": "iRq_PbPUZZqJ",
    "outputId": "b1aef885-aa33-4a5a-efdc-4264c9a9fbef"
   },
   "outputs": [
    {
     "data": {
      "text/plain": [
       "<tensorflow.python.keras.callbacks.History at 0x7f25c84984a8>"
      ]
     },
     "execution_count": 17,
     "metadata": {
      "tags": []
     },
     "output_type": "execute_result"
    }
   ],
   "source": [
    "model.compile(loss='mse', optimizer=tf.keras.optimizers.SGD(lr=5e-6, momentum=0.9))\n",
    "model.fit(dataset,epochs=100,verbose=0)"
   ]
  },
  {
   "cell_type": "code",
   "execution_count": 0,
   "metadata": {
    "colab": {
     "base_uri": "https://localhost:8080/",
     "height": 388
    },
    "colab_type": "code",
    "id": "efhco2rYyIFF",
    "outputId": "98d28704-57ff-4140-f160-9103851162b7"
   },
   "outputs": [
    {
     "data": {
      "image/png": "[encoded data removed]",
      "text/plain": [
       "<Figure size 720x432 with 1 Axes>"
      ]
     },
     "metadata": {
      "needs_background": "light",
      "tags": []
     },
     "output_type": "display_data"
    }
   ],
   "source": [
    "forecast = []\n",
    "for time in range(len(series) - window_size):\n",
    "  forecast.append(model.predict(series[time:time + window_size][np.newaxis]))\n",
    "\n",
    "forecast = forecast[split_time-window_size:]\n",
    "results = np.array(forecast)[:, 0, 0]\n",
    "\n",
    "\n",
    "plt.figure(figsize=(10, 6))\n",
    "\n",
    "plot_series(time_valid, x_valid)\n",
    "plot_series(time_valid, results)"
   ]
  },
  {
   "cell_type": "code",
   "execution_count": 0,
   "metadata": {
    "colab": {
     "base_uri": "https://localhost:8080/",
     "height": 35
    },
    "colab_type": "code",
    "id": "-kT6j186YO6K",
    "outputId": "5749d261-93b1-499e-f95e-6303cb444791"
   },
   "outputs": [
    {
     "data": {
      "text/plain": [
       "3.189249"
      ]
     },
     "execution_count": 13,
     "metadata": {
      "tags": []
     },
     "output_type": "execute_result"
    }
   ],
   "source": [
    "tf.keras.metrics.mean_absolute_error(x_valid, results).numpy()\n",
    "# EXPECTED OUTPUT\n",
    "# A Value less than 3"
   ]
  },
  {
   "cell_type": "code",
   "execution_count": 0,
   "metadata": {
    "colab": {},
    "colab_type": "code",
    "collapsed": true,
    "id": "Lgot0JifCNAL"
   },
   "outputs": [],
   "source": []
  }
 ],
 "metadata": {
  "colab": {
   "name": "DNN with Tuning for Time-Series (Syntethic).ipynb",
   "provenance": [],
   "toc_visible": true
  },
  "kernelspec": {
   "display_name": "Python 3",
   "language": "python",
   "name": "python3"
  },
  "language_info": {
   "codemirror_mode": {
    "name": "ipython",
    "version": 3
   },
   "file_extension": ".py",
   "mimetype": "text/x-python",
   "name": "python",
   "nbconvert_exporter": "python",
   "pygments_lexer": "ipython3",
   "version": "3.6.2"
  }
 },
 "nbformat": 4,
 "nbformat_minor": 1
}
